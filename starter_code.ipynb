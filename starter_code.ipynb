{
 "cells": [
  {
   "cell_type": "markdown",
   "metadata": {},
   "source": [
    "# Libraries"
   ]
  },
  {
   "cell_type": "code",
   "execution_count": 5,
   "metadata": {},
   "outputs": [],
   "source": [
    "import pickle\n",
    "import pandas as pd\n",
    "import seaborn as sns\n",
    "from os.path import exists\n",
    "import matplotlib.pyplot as plt\n",
    "from sklearn.neighbors import KNeighborsClassifier\n",
    "from sklearn.model_selection import train_test_split\n",
    "from sklearn.metrics import accuracy_score, confusion_matrix"
   ]
  },
  {
   "cell_type": "markdown",
   "metadata": {},
   "source": [
    "# Loading the Files\n",
    "\n",
    "Download the csv files into the `data/` directory."
   ]
  },
  {
   "cell_type": "code",
   "execution_count": 9,
   "metadata": {},
   "outputs": [
    {
     "name": "stdout",
     "output_type": "stream",
     "text": [
      "train.csv shape is  (1697533, 9)\n",
      "test.csv shape is  (212192, 2)\n",
      "\n",
      "        Id   ProductId          UserId  HelpfulnessNumerator  \\\n",
      "0   914403  B0009W5KHM   AV6QDP8Q0ONK4                     2   \n",
      "1   354887  6303079709  A2I8RXJN80A2D2                     0   \n",
      "2  1407653  B004H0M2XC  A3FHV3RV8Z12E6                     0   \n",
      "3  1377458  B003ZJ9536  A12VLTA3ZHVPUY                     1   \n",
      "4   475323  630574453X  A13NM1PES9OXVN                     2   \n",
      "\n",
      "   HelpfulnessDenominator        Time  \\\n",
      "0                       2  1341014400   \n",
      "1                       0  1168819200   \n",
      "2                       0  1386201600   \n",
      "3                       1  1348704000   \n",
      "4                       3   970012800   \n",
      "\n",
      "                                         Summary  \\\n",
      "0                                  GOOD FUN FILM   \n",
      "1                                   Movie Review   \n",
      "2             When is it a good time to Consent?   \n",
      "3                                          TRUTH   \n",
      "4  Intelligent and bittersweet -- stays with you   \n",
      "\n",
      "                                                Text  Score  \n",
      "0  While most straight to DVD films are not worth...    5.0  \n",
      "1  I have wanted this one for sometime, also.  I ...    5.0  \n",
      "2  Actually this was a pretty darn good indie fil...    4.0  \n",
      "3  Episodes 37 to 72 of the series press on in a ...    5.0  \n",
      "4  I was really impressed with this movie, but wa...    3.0  \n",
      "\n",
      "        Id  Score\n",
      "0  1323432    NaN\n",
      "1  1137299    NaN\n",
      "2  1459366    NaN\n",
      "3   931601    NaN\n",
      "4  1311995    NaN\n",
      "\n",
      "                 Id  HelpfulnessNumerator  HelpfulnessDenominator  \\\n",
      "count  1.697533e+06          1.697533e+06            1.697533e+06   \n",
      "mean   8.487660e+05          3.569048e+00            5.301422e+00   \n",
      "std    4.900357e+05          1.727883e+01            2.024445e+01   \n",
      "min    0.000000e+00          0.000000e+00            0.000000e+00   \n",
      "25%    4.243830e+05          0.000000e+00            0.000000e+00   \n",
      "50%    8.487660e+05          1.000000e+00            1.000000e+00   \n",
      "75%    1.273149e+06          3.000000e+00            5.000000e+00   \n",
      "max    1.697532e+06          6.084000e+03            6.510000e+03   \n",
      "\n",
      "               Time         Score  \n",
      "count  1.697533e+06  1.485341e+06  \n",
      "mean   1.262422e+09  4.110517e+00  \n",
      "std    1.289277e+08  1.197651e+00  \n",
      "min    8.793792e+08  1.000000e+00  \n",
      "25%    1.164413e+09  4.000000e+00  \n",
      "50%    1.307491e+09  5.000000e+00  \n",
      "75%    1.373242e+09  5.000000e+00  \n",
      "max    1.406074e+09  5.000000e+00  \n"
     ]
    },
    {
     "data": {
      "image/png": "[encoded data removed]",
      "text/plain": [
       "<Figure size 640x480 with 1 Axes>"
      ]
     },
     "metadata": {},
     "output_type": "display_data"
    },
    {
     "name": "stdout",
     "output_type": "stream",
     "text": [
      "\n",
      "EVERYTHING IS PROPERLY SET UP! YOU ARE READY TO START\n"
     ]
    }
   ],
   "source": [
    "trainingSet = pd.read_csv(\"train.csv\")\n",
    "testingSet = pd.read_csv(\"test.csv\")\n",
    "\n",
    "print(\"train.csv shape is \", trainingSet.shape)\n",
    "print(\"test.csv shape is \", testingSet.shape)\n",
    "\n",
    "print()\n",
    "\n",
    "print(trainingSet.head())\n",
    "print()\n",
    "print(testingSet.head())\n",
    "\n",
    "print()\n",
    "\n",
    "print(trainingSet.describe())\n",
    "\n",
    "trainingSet['Score'].value_counts().plot(kind='bar', legend=True, alpha=.5)\n",
    "plt.show()\n",
    "\n",
    "print()\n",
    "print(\"EVERYTHING IS PROPERLY SET UP! YOU ARE READY TO START\")\n"
   ]
  },
  {
   "cell_type": "markdown",
   "metadata": {},
   "source": [
    "# Adding Features"
   ]
  },
  {
   "cell_type": "code",
   "execution_count": 34,
   "metadata": {},
   "outputs": [
    {
     "name": "stderr",
     "output_type": "stream",
     "text": [
      "[nltk_data] Downloading package vader_lexicon to\n",
      "[nltk_data]     /Users/mahekhemani/nltk_data...\n",
      "[nltk_data]   Package vader_lexicon is already up-to-date!\n"
     ]
    },
    {
     "name": "stdout",
     "output_type": "stream",
     "text": [
      "Skipping loading existing files and proceeding with feature extraction...\n",
      "Sampling 20,000 rows from the training dataset...\n",
      "Processing a smaller batch of 20,000 rows for testing.\n",
      "Adding features to the dataset...\n",
      "Feature engineering completed.\n",
      "Merging the sample training data with the testing set...\n",
      "Merge completed. Filling any missing values...\n",
      "Extracting non-null score data from the sample training data...\n",
      "Saving the processed data...\n",
      "Feature extraction complete and files saved.\n"
     ]
    }
   ],
   "source": [
    "from nltk.sentiment import SentimentIntensityAnalyzer\n",
    "import nltk\n",
    "\n",
    "# Ensure the VADER lexicon is downloaded\n",
    "nltk.download('vader_lexicon')\n",
    "\n",
    "# Initialize the VADER sentiment analyzer\n",
    "sia = SentimentIntensityAnalyzer()\n",
    "\n",
    "def add_features_to(df):\n",
    "    print(\"Adding features to the dataset...\")\n",
    "    # Helpfulness Ratio\n",
    "    df['Helpfulness'] = df['HelpfulnessNumerator'] / df['HelpfulnessDenominator']\n",
    "    df['Helpfulness'] = df['Helpfulness'].fillna(0)\n",
    "\n",
    "    # Review Length\n",
    "    df['ReviewLength'] = df['Text'].apply(lambda x: len(str(x).split()))\n",
    "\n",
    "    # Sentiment Analysis using VADER\n",
    "    df['Polarity'] = df['Text'].apply(lambda x: sia.polarity_scores(str(x))['compound'])\n",
    "    df['Subjectivity'] = df['Text'].apply(lambda x: sia.polarity_scores(str(x))['neu'])\n",
    "\n",
    "    # Summary Length\n",
    "    df['SummaryLength'] = df['Summary'].apply(lambda x: len(str(x).split()))\n",
    "\n",
    "    # Number of Exclamation Marks (indicates strong emotion)\n",
    "    df['ExclamationMarks'] = df['Text'].apply(lambda x: str(x).count('!'))\n",
    "\n",
    "    # Number of Question Marks (might indicate confusion or negative sentiment)\n",
    "    df['QuestionMarks'] = df['Text'].apply(lambda x: str(x).count('?'))\n",
    "\n",
    "    # Average Word Length\n",
    "    df['AvgWordLength'] = df['Text'].apply(lambda x: sum(len(word) for word in str(x).split()) / (len(str(x).split()) + 1))\n",
    "\n",
    "    # Review Year\n",
    "    df['ReviewYear'] = pd.to_datetime(df['Time'], unit='s').dt.year\n",
    "\n",
    "    print(\"Feature engineering completed.\")\n",
    "    return df\n",
    "\n",
    "# Ensure the 'data' directory exists\n",
    "if not os.path.exists('./data'):\n",
    "    os.makedirs('./data')\n",
    "    print(\"Created 'data' directory.\")\n",
    "\n",
    "# Force feature extraction regardless of existing files\n",
    "print(\"Skipping loading existing files and proceeding with feature extraction...\")\n",
    "\n",
    "# For testing purposes, process a smaller batch of data (e.g., 20,000 rows)\n",
    "print(\"Sampling 20,000 rows from the training dataset...\")\n",
    "sample_train = trainingSet.sample(20000, random_state=42)  # Adjust the number as needed\n",
    "print(\"Processing a smaller batch of 20,000 rows for testing.\")\n",
    "\n",
    "# Apply feature engineering to the smaller batch\n",
    "sample_train = add_features_to(sample_train)\n",
    "\n",
    "# Merge the smaller processed batch with testingSet on Id\n",
    "print(\"Merging the sample training data with the testing set...\")\n",
    "X_submission = pd.merge(testingSet, sample_train, on='Id', how='left')\n",
    "print(\"Merge completed. Filling any missing values...\")\n",
    "X_submission = X_submission.drop(columns=['Score_x'], errors='ignore')\n",
    "X_submission = X_submission.rename(columns={'Score_y': 'Score'})\n",
    "X_submission = X_submission.fillna(0)\n",
    "\n",
    "# The training set is where the score is not null\n",
    "print(\"Extracting non-null score data from the sample training data...\")\n",
    "X_train = sample_train[sample_train['Score'].notnull()]\n",
    "\n",
    "# Save the processed data\n",
    "print(\"Saving the processed data...\")\n",
    "X_submission.to_csv(\"./data/X_submission.csv\", index=False)\n",
    "X_train.to_csv(\"./data/X_train.csv\", index=False)\n",
    "print(\"Feature extraction complete and files saved.\")\n"
   ]
  },
  {
   "cell_type": "markdown",
   "metadata": {},
   "source": [
    "# Sample + Split into training and testing set"
   ]
  },
  {
   "cell_type": "code",
   "execution_count": 35,
   "metadata": {},
   "outputs": [
    {
     "name": "stdout",
     "output_type": "stream",
     "text": [
      "X_train_split shape: (13126, 9)\n",
      "X_test_split shape: (4376, 9)\n",
      "Y_train_split shape: (13126,)\n",
      "Y_test_split shape: (4376,)\n"
     ]
    }
   ],
   "source": [
    "from sklearn.model_selection import train_test_split\n",
    "\n",
    "# Define the features that will be used for training\n",
    "features = ['HelpfulnessNumerator', 'HelpfulnessDenominator', 'Time', 'Helpfulness', \n",
    "            'ReviewLength', 'Polarity', 'Subjectivity', 'SummaryLength', 'ReviewYear']\n",
    "\n",
    "# Select the features from the X_train dataset\n",
    "X = X_train[features]  # Feature set\n",
    "Y = X_train['Score']   # Target variable (labels)\n",
    "\n",
    "# Split the dataset into training and testing sets (75% training, 25% testing)\n",
    "X_train_split, X_test_split, Y_train_split, Y_test_split = train_test_split(\n",
    "    X, Y,\n",
    "    test_size=0.25,     # 25% of the data will be used as the test set\n",
    "    random_state=42     # Random seed for reproducibility\n",
    ")\n",
    "\n",
    "# Display the shapes of the splits to confirm\n",
    "print(\"X_train_split shape:\", X_train_split.shape)\n",
    "print(\"X_test_split shape:\", X_test_split.shape)\n",
    "print(\"Y_train_split shape:\", Y_train_split.shape)\n",
    "print(\"Y_test_split shape:\", Y_test_split.shape)\n"
   ]
  },
  {
   "cell_type": "markdown",
   "metadata": {},
   "source": [
    "# Feature Selection"
   ]
  },
  {
   "cell_type": "code",
   "execution_count": 36,
   "metadata": {},
   "outputs": [
    {
     "name": "stdout",
     "output_type": "stream",
     "text": [
      "X_train_select shape: (13126, 9)\n",
      "X_test_select shape: (4376, 9)\n",
      "X_submission_select shape: (212192, 9)\n"
     ]
    }
   ],
   "source": [
    "# Define the features to be selected\n",
    "features = ['HelpfulnessNumerator', 'HelpfulnessDenominator', 'Time', 'Helpfulness', \n",
    "            'ReviewLength', 'Polarity', 'Subjectivity', 'SummaryLength', 'ReviewYear']\n",
    "\n",
    "# Select these features from the training, testing, and submission datasets\n",
    "X_train_select = X_train_split[features]\n",
    "X_test_select = X_test_split[features]\n",
    "X_submission_select = X_submission[features]\n",
    "\n",
    "# Display the shapes of the newly created datasets to verify\n",
    "print(\"X_train_select shape:\", X_train_select.shape)\n",
    "print(\"X_test_select shape:\", X_test_select.shape)\n",
    "print(\"X_submission_select shape:\", X_submission_select.shape)\n"
   ]
  },
  {
   "cell_type": "code",
   "execution_count": 38,
   "metadata": {},
   "outputs": [
    {
     "name": "stdout",
     "output_type": "stream",
     "text": [
      "Best Model Accuracy: 0.5477605118829981\n",
      "\n",
      "Best Model Confusion Matrix:\n",
      " [[ 126   11   10   11  104]\n",
      " [  56   12   16    6  165]\n",
      " [  31    7    7   31  462]\n",
      " [  13    9    2   41  957]\n",
      " [  27    8    7   46 2211]]\n",
      "\n",
      "Best Model Classification Report:\n",
      "               precision    recall  f1-score   support\n",
      "\n",
      "         1.0       0.50      0.48      0.49       262\n",
      "         2.0       0.26      0.05      0.08       255\n",
      "         3.0       0.17      0.01      0.02       538\n",
      "         4.0       0.30      0.04      0.07      1022\n",
      "         5.0       0.57      0.96      0.71      2299\n",
      "\n",
      "    accuracy                           0.55      4376\n",
      "   macro avg       0.36      0.31      0.28      4376\n",
      "weighted avg       0.43      0.55      0.43      4376\n",
      "\n"
     ]
    }
   ],
   "source": [
    "from sklearn.model_selection import GridSearchCV\n",
    "\n",
    "# Define the parameter grid\n",
    "param_grid = {\n",
    "    'n_estimators': [100, 200, 300],\n",
    "    'max_depth': [10, 20, 30],\n",
    "    'min_samples_split': [2, 5, 10],\n",
    "    'min_samples_leaf': [1, 2, 4]\n",
    "}\n",
    "\n",
    "# Initialize the RandomForestClassifier\n",
    "rf = RandomForestClassifier(random_state=42)\n",
    "\n",
    "# Use GridSearchCV to find the best parameters\n",
    "grid_search = GridSearchCV(estimator=rf, param_grid=param_grid, cv=3, n_jobs=-1, scoring='accuracy')\n",
    "grid_search.fit(X_train_select, Y_train_split)\n",
    "\n",
    "# Get the best model from the grid search\n",
    "best_rf = grid_search.best_estimator_\n",
    "\n",
    "# Evaluate the best model on the test set\n",
    "Y_test_predictions = best_rf.predict(X_test_select)\n",
    "\n",
    "# Evaluate the model's performance\n",
    "accuracy = accuracy_score(Y_test_split, Y_test_predictions)\n",
    "conf_matrix = confusion_matrix(Y_test_split, Y_test_predictions)\n",
    "report = classification_report(Y_test_split, Y_test_predictions)\n",
    "\n",
    "# Display the results\n",
    "print(\"Best Model Accuracy:\", accuracy)\n",
    "print(\"\\nBest Model Confusion Matrix:\\n\", conf_matrix)\n",
    "print(\"\\nBest Model Classification Report:\\n\", report)\n"
   ]
  },
  {
   "cell_type": "markdown",
   "metadata": {},
   "source": [
    "# Model Creation"
   ]
  },
  {
   "cell_type": "code",
   "execution_count": 39,
   "metadata": {},
   "outputs": [
    {
     "name": "stdout",
     "output_type": "stream",
     "text": [
      "Model Accuracy: 0.529707495429616\n",
      "\n",
      "Confusion Matrix:\n",
      " [[ 111   24   26   14   87]\n",
      " [  51   29   23   23  129]\n",
      " [  32   19   34   82  371]\n",
      " [  15   16   38  141  812]\n",
      " [  32   21   47  196 2003]]\n",
      "\n",
      "Classification Report:\n",
      "               precision    recall  f1-score   support\n",
      "\n",
      "         1.0       0.46      0.42      0.44       262\n",
      "         2.0       0.27      0.11      0.16       255\n",
      "         3.0       0.20      0.06      0.10       538\n",
      "         4.0       0.31      0.14      0.19      1022\n",
      "         5.0       0.59      0.87      0.70      2299\n",
      "\n",
      "    accuracy                           0.53      4376\n",
      "   macro avg       0.37      0.32      0.32      4376\n",
      "weighted avg       0.45      0.53      0.46      4376\n",
      "\n"
     ]
    }
   ],
   "source": [
    "from sklearn.ensemble import RandomForestClassifier\n",
    "from sklearn.metrics import accuracy_score, confusion_matrix, classification_report\n",
    "\n",
    "# Create and train the Random Forest model\n",
    "model = RandomForestClassifier(n_estimators=100, random_state=42)  # You can adjust the number of trees (n_estimators)\n",
    "model.fit(X_train_select, Y_train_split)\n",
    "\n",
    "# Predict the score using the model on the test set\n",
    "Y_test_predictions = model.predict(X_test_select)\n",
    "\n",
    "# Evaluate the model's performance\n",
    "accuracy = accuracy_score(Y_test_split, Y_test_predictions)\n",
    "conf_matrix = confusion_matrix(Y_test_split, Y_test_predictions)\n",
    "report = classification_report(Y_test_split, Y_test_predictions)\n",
    "\n",
    "# Display the results\n",
    "print(\"Model Accuracy:\", accuracy)\n",
    "print(\"\\nConfusion Matrix:\\n\", conf_matrix)\n",
    "print(\"\\nClassification Report:\\n\", report)\n"
   ]
  },
  {
   "cell_type": "markdown",
   "metadata": {},
   "source": [
    "# Model Evaluation"
   ]
  },
  {
   "cell_type": "code",
   "execution_count": 31,
   "metadata": {},
   "outputs": [
    {
     "name": "stdout",
     "output_type": "stream",
     "text": [
      "Accuracy on testing set = 0.35351919561243145\n"
     ]
    },
    {
     "data": {
      "image/png": "[encoded data removed]",
      "text/plain": [
       "<Figure size 800x600 with 2 Axes>"
      ]
     },
     "metadata": {},
     "output_type": "display_data"
    }
   ],
   "source": [
    "from sklearn.metrics import accuracy_score, confusion_matrix\n",
    "import seaborn as sns\n",
    "import matplotlib.pyplot as plt\n",
    "\n",
    "# Evaluate the model's accuracy on the testing set\n",
    "accuracy = accuracy_score(Y_test_split, Y_test_predictions)\n",
    "print(\"Accuracy on testing set =\", accuracy)\n",
    "\n",
    "# Plot a confusion matrix\n",
    "cm = confusion_matrix(Y_test_split, Y_test_predictions, normalize='true')\n",
    "plt.figure(figsize=(8, 6))\n",
    "sns.heatmap(cm, annot=True, cmap='Blues', fmt='.2f')\n",
    "plt.title('Confusion Matrix of the Classifier')\n",
    "plt.xlabel('Predicted Label')\n",
    "plt.ylabel('True Label')\n",
    "plt.show()\n"
   ]
  },
  {
   "cell_type": "markdown",
   "metadata": {},
   "source": [
    "# Create submission file"
   ]
  },
  {
   "cell_type": "code",
   "execution_count": 40,
   "metadata": {},
   "outputs": [
    {
     "name": "stdout",
     "output_type": "stream",
     "text": [
      "Submission file created successfully! Number of rows: 212192\n"
     ]
    }
   ],
   "source": [
    "# Predict the scores for the submission dataset using the best model\n",
    "X_submission['Score'] = best_rf.predict(X_submission_select)\n",
    "\n",
    "# Select only the 'Id' and 'Score' columns for the submission file\n",
    "submission = X_submission[['Id', 'Score']]\n",
    "\n",
    "# Save the submission file in the required format\n",
    "submission.to_csv(\"./data/submission.csv\", index=False)\n",
    "\n",
    "print(\"Submission file created successfully! Number of rows:\", submission.shape[0])\n"
   ]
  },
  {
   "cell_type": "code",
   "execution_count": null,
   "metadata": {},
   "outputs": [],
   "source": []
  }
 ],
 "metadata": {
  "kernelspec": {
   "display_name": "Python 3 (ipykernel)",
   "language": "python",
   "name": "python3"
  },
  "language_info": {
   "codemirror_mode": {
    "name": "ipython",
    "version": 3
   },
   "file_extension": ".py",
   "mimetype": "text/x-python",
   "name": "python",
   "nbconvert_exporter": "python",
   "pygments_lexer": "ipython3",
   "version": "3.11.10"
  }
 },
 "nbformat": 4,
 "nbformat_minor": 4
}
